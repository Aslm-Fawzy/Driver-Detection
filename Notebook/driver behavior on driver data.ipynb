{
 "cells": [
  {
   "cell_type": "code",
   "execution_count": 1,
   "id": "0d2e4673",
   "metadata": {},
   "outputs": [],
   "source": [
    "import pandas as pd\n",
    "import numpy as np\n",
    "import seaborn as sns\n",
    "from matplotlib import pyplot as plt\n",
    "from sklearn.model_selection import train_test_split\n",
    "from sklearn.metrics import accuracy_score,r2_score,confusion_matrix\n",
    "from sklearn.tree import DecisionTreeClassifier\n",
    "from sklearn.neighbors import KNeighborsClassifier\n",
    "from sklearn.ensemble import RandomForestClassifier"
   ]
  },
  {
   "cell_type": "code",
   "execution_count": 8,
   "id": "5c7fbae3",
   "metadata": {},
   "outputs": [
    {
     "data": {
      "text/html": [
       "<div>\n",
       "<style scoped>\n",
       "    .dataframe tbody tr th:only-of-type {\n",
       "        vertical-align: middle;\n",
       "    }\n",
       "\n",
       "    .dataframe tbody tr th {\n",
       "        vertical-align: top;\n",
       "    }\n",
       "\n",
       "    .dataframe thead th {\n",
       "        text-align: right;\n",
       "    }\n",
       "</style>\n",
       "<table border=\"1\" class=\"dataframe\">\n",
       "  <thead>\n",
       "    <tr style=\"text-align: right;\">\n",
       "      <th></th>\n",
       "      <th>AccX</th>\n",
       "      <th>AccY</th>\n",
       "      <th>AccZ</th>\n",
       "      <th>GyroX</th>\n",
       "      <th>GyroY</th>\n",
       "      <th>GyroZ</th>\n",
       "      <th>Class</th>\n",
       "      <th>Timestamp</th>\n",
       "    </tr>\n",
       "  </thead>\n",
       "  <tbody>\n",
       "    <tr>\n",
       "      <th>0</th>\n",
       "      <td>0.000000</td>\n",
       "      <td>0.000000</td>\n",
       "      <td>0.000000</td>\n",
       "      <td>0.059407</td>\n",
       "      <td>-0.174707</td>\n",
       "      <td>0.101938</td>\n",
       "      <td>NORMAL</td>\n",
       "      <td>3581629</td>\n",
       "    </tr>\n",
       "    <tr>\n",
       "      <th>1</th>\n",
       "      <td>-1.624864</td>\n",
       "      <td>-1.082492</td>\n",
       "      <td>-0.204183</td>\n",
       "      <td>-0.028558</td>\n",
       "      <td>0.051313</td>\n",
       "      <td>0.135536</td>\n",
       "      <td>NORMAL</td>\n",
       "      <td>3581630</td>\n",
       "    </tr>\n",
       "    <tr>\n",
       "      <th>2</th>\n",
       "      <td>-0.594660</td>\n",
       "      <td>-0.122410</td>\n",
       "      <td>0.220502</td>\n",
       "      <td>-0.019395</td>\n",
       "      <td>-0.029322</td>\n",
       "      <td>0.087888</td>\n",
       "      <td>NORMAL</td>\n",
       "      <td>3581630</td>\n",
       "    </tr>\n",
       "    <tr>\n",
       "      <th>3</th>\n",
       "      <td>0.738478</td>\n",
       "      <td>-0.228456</td>\n",
       "      <td>0.667732</td>\n",
       "      <td>0.069791</td>\n",
       "      <td>-0.029932</td>\n",
       "      <td>0.054902</td>\n",
       "      <td>NORMAL</td>\n",
       "      <td>3581631</td>\n",
       "    </tr>\n",
       "    <tr>\n",
       "      <th>4</th>\n",
       "      <td>0.101741</td>\n",
       "      <td>0.777568</td>\n",
       "      <td>-0.066730</td>\n",
       "      <td>0.030696</td>\n",
       "      <td>-0.003665</td>\n",
       "      <td>0.054902</td>\n",
       "      <td>NORMAL</td>\n",
       "      <td>3581631</td>\n",
       "    </tr>\n",
       "    <tr>\n",
       "      <th>...</th>\n",
       "      <td>...</td>\n",
       "      <td>...</td>\n",
       "      <td>...</td>\n",
       "      <td>...</td>\n",
       "      <td>...</td>\n",
       "      <td>...</td>\n",
       "      <td>...</td>\n",
       "      <td>...</td>\n",
       "    </tr>\n",
       "    <tr>\n",
       "      <th>3079</th>\n",
       "      <td>-0.713858</td>\n",
       "      <td>-0.652975</td>\n",
       "      <td>-0.164015</td>\n",
       "      <td>-0.147829</td>\n",
       "      <td>-1.309466</td>\n",
       "      <td>0.517250</td>\n",
       "      <td>SLOW</td>\n",
       "      <td>820706</td>\n",
       "    </tr>\n",
       "    <tr>\n",
       "      <th>3080</th>\n",
       "      <td>1.514261</td>\n",
       "      <td>0.330070</td>\n",
       "      <td>1.020714</td>\n",
       "      <td>1.321302</td>\n",
       "      <td>1.707598</td>\n",
       "      <td>-0.674548</td>\n",
       "      <td>SLOW</td>\n",
       "      <td>820707</td>\n",
       "    </tr>\n",
       "    <tr>\n",
       "      <th>3081</th>\n",
       "      <td>1.280216</td>\n",
       "      <td>-1.735172</td>\n",
       "      <td>-2.332695</td>\n",
       "      <td>0.583376</td>\n",
       "      <td>0.690507</td>\n",
       "      <td>-0.468075</td>\n",
       "      <td>SLOW</td>\n",
       "      <td>820707</td>\n",
       "    </tr>\n",
       "    <tr>\n",
       "      <th>3082</th>\n",
       "      <td>0.912313</td>\n",
       "      <td>0.583314</td>\n",
       "      <td>-0.965622</td>\n",
       "      <td>0.235794</td>\n",
       "      <td>0.512745</td>\n",
       "      <td>0.406073</td>\n",
       "      <td>SLOW</td>\n",
       "      <td>820708</td>\n",
       "    </tr>\n",
       "    <tr>\n",
       "      <th>3083</th>\n",
       "      <td>1.462172</td>\n",
       "      <td>0.190287</td>\n",
       "      <td>0.019377</td>\n",
       "      <td>-0.254731</td>\n",
       "      <td>-0.279547</td>\n",
       "      <td>0.076205</td>\n",
       "      <td>SLOW</td>\n",
       "      <td>820709</td>\n",
       "    </tr>\n",
       "  </tbody>\n",
       "</table>\n",
       "<p>6728 rows × 8 columns</p>\n",
       "</div>"
      ],
      "text/plain": [
       "          AccX      AccY      AccZ     GyroX     GyroY     GyroZ   Class  \\\n",
       "0     0.000000  0.000000  0.000000  0.059407 -0.174707  0.101938  NORMAL   \n",
       "1    -1.624864 -1.082492 -0.204183 -0.028558  0.051313  0.135536  NORMAL   \n",
       "2    -0.594660 -0.122410  0.220502 -0.019395 -0.029322  0.087888  NORMAL   \n",
       "3     0.738478 -0.228456  0.667732  0.069791 -0.029932  0.054902  NORMAL   \n",
       "4     0.101741  0.777568 -0.066730  0.030696 -0.003665  0.054902  NORMAL   \n",
       "...        ...       ...       ...       ...       ...       ...     ...   \n",
       "3079 -0.713858 -0.652975 -0.164015 -0.147829 -1.309466  0.517250    SLOW   \n",
       "3080  1.514261  0.330070  1.020714  1.321302  1.707598 -0.674548    SLOW   \n",
       "3081  1.280216 -1.735172 -2.332695  0.583376  0.690507 -0.468075    SLOW   \n",
       "3082  0.912313  0.583314 -0.965622  0.235794  0.512745  0.406073    SLOW   \n",
       "3083  1.462172  0.190287  0.019377 -0.254731 -0.279547  0.076205    SLOW   \n",
       "\n",
       "      Timestamp  \n",
       "0       3581629  \n",
       "1       3581630  \n",
       "2       3581630  \n",
       "3       3581631  \n",
       "4       3581631  \n",
       "...         ...  \n",
       "3079     820706  \n",
       "3080     820707  \n",
       "3081     820707  \n",
       "3082     820708  \n",
       "3083     820709  \n",
       "\n",
       "[6728 rows x 8 columns]"
      ]
     },
     "execution_count": 8,
     "metadata": {},
     "output_type": "execute_result"
    }
   ],
   "source": [
    "df_1 = pd.read_csv('train_motion_data.csv')\n",
    "df_2 = pd.read_csv('test_motion_data.csv')\n",
    "\n",
    "data = pd.concat([df_1, df_2])\n",
    "data\n"
   ]
  },
  {
   "cell_type": "code",
   "execution_count": 3,
   "id": "a73826d4",
   "metadata": {},
   "outputs": [
    {
     "data": {
      "text/plain": [
       "0"
      ]
     },
     "execution_count": 3,
     "metadata": {},
     "output_type": "execute_result"
    }
   ],
   "source": [
    "data.duplicated().sum()"
   ]
  },
  {
   "cell_type": "code",
   "execution_count": 4,
   "id": "dc9366d9",
   "metadata": {},
   "outputs": [],
   "source": [
    "data.Class=data.Class.replace(['AGGRESSIVE', 'NORMAL', 'SLOW'],[1,2,3])\n"
   ]
  },
  {
   "cell_type": "code",
   "execution_count": 5,
   "id": "7f2183d0",
   "metadata": {},
   "outputs": [],
   "source": [
    "from sklearn.model_selection import train_test_split\n",
    "x = data.drop('Class',axis = 1)\n",
    "y = data['Class']\n",
    "x_train,x_test,y_train,y_test = train_test_split(x,y,test_size=0.2,stratify=y)"
   ]
  },
  {
   "cell_type": "code",
   "execution_count": 6,
   "id": "4fe4ca48",
   "metadata": {},
   "outputs": [],
   "source": [
    "from imblearn.over_sampling import SMOTE\n",
    "\n",
    "smote = SMOTE()\n",
    "x_train ,y_train = smote.fit_resample(x_train,y_train)"
   ]
  },
  {
   "cell_type": "code",
   "execution_count": 7,
   "id": "f05f6695",
   "metadata": {},
   "outputs": [
    {
     "name": "stdout",
     "output_type": "stream",
     "text": [
      "Fitting 3 folds for each of 216 candidates, totalling 648 fits\n",
      "Best parameters found:  {'bootstrap': False, 'max_depth': 20, 'min_samples_leaf': 1, 'min_samples_split': 2, 'n_estimators': 50}\n",
      "The accuracy in train: 1.0\n",
      "The accuracy in test: 0.9940564635958395\n",
      "The confusion matrix: \n",
      "[[385   0   0]\n",
      " [  3 437   0]\n",
      " [  0   5 516]]\n",
      "The classification report: \n",
      "              precision    recall  f1-score   support\n",
      "\n",
      "           1       0.99      1.00      1.00       385\n",
      "           2       0.99      0.99      0.99       440\n",
      "           3       1.00      0.99      1.00       521\n",
      "\n",
      "    accuracy                           0.99      1346\n",
      "   macro avg       0.99      0.99      0.99      1346\n",
      "weighted avg       0.99      0.99      0.99      1346\n",
      "\n"
     ]
    }
   ],
   "source": [
    "from sklearn.model_selection import GridSearchCV\n",
    "from sklearn.ensemble import RandomForestClassifier\n",
    "from sklearn.metrics import accuracy_score, confusion_matrix, classification_report\n",
    "\n",
    "rf = RandomForestClassifier(random_state=42)\n",
    "\n",
    "param_grid = {\n",
    "    'n_estimators': [50, 100, 200],\n",
    "    'max_depth': [None, 10, 20, 30], \n",
    "    'min_samples_split': [2, 5, 10], \n",
    "    'min_samples_leaf': [1, 2, 4], \n",
    "    'bootstrap': [True, False]  \n",
    "}\n",
    "\n",
    "grid_search = GridSearchCV(estimator=rf, param_grid=param_grid,\n",
    "                           cv=3, scoring='accuracy', verbose=2, n_jobs=-1)\n",
    "\n",
    "grid_search.fit(x_train, y_train)\n",
    "\n",
    "print(\"Best parameters found: \", grid_search.best_params_)\n",
    "\n",
    "best_rf = grid_search.best_estimator_\n",
    "\n",
    "y_pred = best_rf.predict(x_test)\n",
    "print(f'The accuracy in train: {accuracy_score(y_train, best_rf.predict(x_train))}')\n",
    "print(f'The accuracy in test: {accuracy_score(y_test, y_pred)}')\n",
    "print(f'The confusion matrix: \\n{confusion_matrix(y_test, y_pred)}')\n",
    "print(f'The classification report: \\n{classification_report(y_test, y_pred)}')\n"
   ]
  },
  {
   "cell_type": "code",
   "execution_count": 9,
   "id": "0cfe396c",
   "metadata": {},
   "outputs": [
    {
     "data": {
      "text/plain": [
       "['D:\\\\my Machine learning models\\\\driver behavior\\\\new data\\\\model.pkl']"
      ]
     },
     "execution_count": 9,
     "metadata": {},
     "output_type": "execute_result"
    }
   ],
   "source": [
    "from joblib import dump\n",
    "dump(best_rf, 'ML Model/model.pkl')\n"
   ]
  },
  {
   "cell_type": "code",
   "execution_count": null,
   "id": "116c64ef",
   "metadata": {},
   "outputs": [],
   "source": []
  },
  {
   "cell_type": "code",
   "execution_count": null,
   "id": "929bacfa",
   "metadata": {},
   "outputs": [],
   "source": []
  },
  {
   "cell_type": "code",
   "execution_count": null,
   "id": "94cc1cbe",
   "metadata": {},
   "outputs": [],
   "source": []
  },
  {
   "cell_type": "code",
   "execution_count": null,
   "id": "dc2592c1",
   "metadata": {},
   "outputs": [],
   "source": []
  },
  {
   "cell_type": "code",
   "execution_count": null,
   "id": "ff9d32a4",
   "metadata": {},
   "outputs": [],
   "source": []
  },
  {
   "cell_type": "code",
   "execution_count": null,
   "id": "5c9f90bb",
   "metadata": {},
   "outputs": [],
   "source": []
  }
 ],
 "metadata": {
  "kernelspec": {
   "display_name": "Python 3 (ipykernel)",
   "language": "python",
   "name": "python3"
  },
  "language_info": {
   "codemirror_mode": {
    "name": "ipython",
    "version": 3
   },
   "file_extension": ".py",
   "mimetype": "text/x-python",
   "name": "python",
   "nbconvert_exporter": "python",
   "pygments_lexer": "ipython3",
   "version": "3.9.13"
  }
 },
 "nbformat": 4,
 "nbformat_minor": 5
}
